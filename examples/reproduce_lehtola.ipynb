{
 "cells": [
  {
   "cell_type": "code",
   "execution_count": 1,
   "metadata": {},
   "outputs": [],
   "source": [
    "import psi4\n",
    "import numpy as np\n",
    "from glob import glob\n",
    "from scf_guess.io import load_molecule\n",
    "from scf_guess.metrics import f_score"
   ]
  },
  {
   "cell_type": "code",
   "execution_count": 2,
   "metadata": {},
   "outputs": [
    {
     "name": "stdout",
     "output_type": "stream",
     "text": [
      "\n",
      "  Memory set to   1.863 GiB by Python driver.\n",
      "  Threads set to 8 by Python driver.\n"
     ]
    }
   ],
   "source": [
    "psi4.set_memory(\"2 GB\")\n",
    "psi4.set_num_threads(8)\n",
    "psi4.core.be_quiet()"
   ]
  },
  {
   "cell_type": "code",
   "execution_count": 3,
   "metadata": {},
   "outputs": [
    {
     "name": "stdout",
     "output_type": "stream",
     "text": [
      "Found 261 molecules\n"
     ]
    }
   ],
   "source": [
    "xyz_paths = glob(\"../data/test_data/geometries/**/*.xyz\")\n",
    "print(f\"Found {len(xyz_paths)} molecules\")"
   ]
  },
  {
   "cell_type": "code",
   "execution_count": 4,
   "metadata": {},
   "outputs": [
    {
     "name": "stdout",
     "output_type": "stream",
     "text": [
      "../data/test_data/geometries/vanLenthe2006/CrO4_2-.xyz skipped because not charge neutral.\n",
      "../data/test_data/geometries/vanLenthe2006/Co(NH3)6.xyz skipped because not charge neutral.\n"
     ]
    }
   ],
   "source": [
    "singlets = []\n",
    "nonsinglets = []\n",
    "\n",
    "for i, xyz_path in enumerate(xyz_paths):\n",
    "    mol = load_molecule(xyz_path)\n",
    "    if not mol.molecular_charge() == 0:\n",
    "        print(f\"{xyz_path} skipped because not charge neutral.\")\n",
    "        continue\n",
    "    if mol.multiplicity() == 1:\n",
    "        singlets.append(xyz_path)\n",
    "    else:\n",
    "        nonsinglets.append(xyz_path)\n",
    "\n",
    "assert len(singlets) == 222\n",
    "assert len(nonsinglets) == 37"
   ]
  },
  {
   "cell_type": "code",
   "execution_count": 5,
   "metadata": {},
   "outputs": [],
   "source": [
    "def calculate_guess(mol, guess=\"SAD\"):\n",
    "    try:\n",
    "        psi4.set_options({\"basis\": \"pcseg-0\", \"GUESS\": guess})\n",
    "        # Build the guess density\n",
    "        basis = psi4.core.BasisSet.build(\n",
    "            mol, target=psi4.core.get_global_option(\"BASIS\")\n",
    "        )\n",
    "        ref_wfn = psi4.core.Wavefunction.build(mol, basis)\n",
    "        start_wfn = psi4.driver.scf_wavefunction_factory(\n",
    "            name=\"hf\",\n",
    "            ref_wfn=ref_wfn,\n",
    "            reference=\"RHF\" if mol.multiplicity == 1 else \"UHF\",\n",
    "        )\n",
    "        start_wfn.form_H()\n",
    "        start_wfn.form_Shalf()\n",
    "        start_wfn.guess()\n",
    "    finally:\n",
    "        psi4.core.clean()\n",
    "    return start_wfn.Da_subset(\"AO\").np, start_wfn.Db_subset(\"AO\").np"
   ]
  },
  {
   "cell_type": "code",
   "execution_count": 6,
   "metadata": {},
   "outputs": [],
   "source": [
    "def load_reference(path):\n",
    "    wfn = psi4.core.Wavefunction.from_file(path)\n",
    "    Da, Db = wfn.Da_subset(\"AO\").np, wfn.Db_subset(\"AO\").np\n",
    "    S = psi4.core.Matrix(*Da.shape)\n",
    "    S.remove_symmetry(wfn.S(), wfn.aotoso().transpose())\n",
    "    return Da, Db, S"
   ]
  },
  {
   "cell_type": "code",
   "execution_count": 7,
   "metadata": {},
   "outputs": [],
   "source": [
    "def score_data_set(paths, guess=\"SAD\"):\n",
    "    f_scores = np.empty(len(paths))\n",
    "    f_scores.fill(np.nan)\n",
    "\n",
    "    for i, xyz_path in enumerate(paths):\n",
    "        mol = load_molecule(xyz_path)\n",
    "        s = xyz_path.split(\"/\")\n",
    "        subset = s[-2]\n",
    "        name = s[-1].removesuffix(\".xyz\")\n",
    "        wfn_path = f\"../data/test_data/wavefunctions/HF/pcseg-0/{subset}/{name}.npy\"\n",
    "        Da_guess, Db_guess = calculate_guess(mol, guess=guess)\n",
    "        Da_scf, Db_scf, S = load_reference(wfn_path)\n",
    "        f_scores[i] = f_score(S, Da_scf, Da_guess, Db_scf, Db_guess)\n",
    "    return f_scores"
   ]
  },
  {
   "cell_type": "markdown",
   "metadata": {},
   "source": [
    "| pcseg-0 | singlets | singlets | nonsinglets | nonsinglets |\n",
    "| ------- | -------- | -------- | ----------- | ----------- | \n",
    "| guess   | min $f$  | mean $f$ | min $f$     | mean $f$    |\n",
    "| GWH     | 0.405    | 0.587    | 0.458       | 0.558       | \n",
    "| CORE    | 0.523    | 0.680    | 0.557       | 0.662       | \n",
    "| SAD     | 0.711    | 0.908    | 0.739       | 0.871       | \n",
    "| SADNO   | 0.758    | 0.973    | 0.861       | 0.959       |\n",
    "| HUCKEL  | 0.950    | 0.979    | 0.868       | 0.974       |\n",
    "| CHA-X   | 0.897    | 0.980    | 0.843       | 0.976       |"
   ]
  },
  {
   "cell_type": "code",
   "execution_count": 8,
   "metadata": {},
   "outputs": [
    {
     "name": "stdout",
     "output_type": "stream",
     "text": [
      "     GWH: 0.742  0.906   0.800  0.898\n",
      "    CORE: 0.523  0.680   0.550  0.663\n",
      "     SAD: 0.711  0.908   0.739  0.871\n",
      "   SADNO: 0.651  0.973   0.858  0.956\n",
      "  HUCKEL: 0.950  0.981   0.885  0.972\n",
      "     SAP: 0.876  0.972   0.923  0.980\n"
     ]
    }
   ],
   "source": [
    "# WARNING: this takes quite long\n",
    "guesses = [\"GWH\", \"CORE\", \"SAD\", \"SADNO\", \"HUCKEL\", \"SAP\"]\n",
    "for guess in guesses:\n",
    "    f_singlets = score_data_set(singlets, guess=guess)\n",
    "    f_nonsinglets = score_data_set(nonsinglets, guess=guess)\n",
    "    print(\n",
    "        f\"{guess:>8s}:\",\n",
    "        f\"{np.nanmin(f_singlets):.3f}  {np.nanmean(f_singlets):.3f}  \",\n",
    "        f\"{np.nanmin(f_nonsinglets):.3f}  {np.nanmean(f_nonsinglets):.3f}\",\n",
    "    )"
   ]
  },
  {
   "cell_type": "code",
   "execution_count": null,
   "metadata": {},
   "outputs": [],
   "source": []
  }
 ],
 "metadata": {
  "kernelspec": {
   "display_name": "scf_guess",
   "language": "python",
   "name": "python3"
  },
  "language_info": {
   "codemirror_mode": {
    "name": "ipython",
    "version": 3
   },
   "file_extension": ".py",
   "mimetype": "text/x-python",
   "name": "python",
   "nbconvert_exporter": "python",
   "pygments_lexer": "ipython3",
   "version": "3.12.7"
  }
 },
 "nbformat": 4,
 "nbformat_minor": 2
}
