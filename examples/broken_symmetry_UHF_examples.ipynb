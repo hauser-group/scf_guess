{
 "cells": [
  {
   "cell_type": "code",
   "execution_count": 12,
   "metadata": {},
   "outputs": [],
   "source": [
    "import logging\n",
    "import matplotlib.pyplot as plt\n",
    "from pyscf import gto, scf\n",
    "from scf_guess.metrics import f_score"
   ]
  },
  {
   "cell_type": "code",
   "execution_count": 18,
   "metadata": {},
   "outputs": [],
   "source": [
    "# Try turning symmetry on and off\n",
    "mol = gto.M(\n",
    "    atom=\"../data/test_data/geometries/W4-17/ch.xyz\",\n",
    "    basis=\"pcseg-0\",\n",
    "    spin=1,\n",
    "    symmetry=False,\n",
    ")"
   ]
  },
  {
   "cell_type": "code",
   "execution_count": 19,
   "metadata": {},
   "outputs": [
    {
     "name": "stdout",
     "output_type": "stream",
     "text": [
      "converged SCF energy = -38.1621933154903  <S^2> = 0.75322257  2S+1 = 2.00322\n",
      "tol 0.0001  toloose 0.01\n",
      "max_cycle 50  max_space 20  max_memory 4000  incore True\n",
      "davidson 0 1  |r|= 1.49  e= [1.08309849]  max|de|= 1.08  lindep= 0.996\n",
      "Old state -> New state\n",
      "    0     ->     1 \n",
      "davidson 1 2  |r|=  1.5  e= [0.27944202 1.09814186]  max|de|= 0.279  lindep= 0.881\n",
      "Old state -> New state\n",
      "    0     ->     1 \n",
      "    1     ->     2 \n",
      "davidson 2 4  |r|= 1.17  e= [0.2023621  0.27211136 1.33843215]  max|de|= 1.34  lindep= 0.902\n",
      "Old state -> New state\n",
      "    0     ->     2 \n",
      "davidson 3 7  |r|= 0.589  e= [0.01957577 0.24196943 0.28641868]  max|de|= -0.183  lindep= 0.882\n",
      "Old state -> New state\n",
      "    1     ->     2 \n",
      "davidson 4 10  |r|= 0.727  e= [-0.00441134  0.03022944  0.25815426]  max|de|= 0.0302  lindep= 0.646\n",
      "Old state -> New state\n",
      "    1     ->     0 \n",
      "    0     ->     1 \n",
      "davidson 5 13  |r|= 0.0882  e= [-6.04716453e-02  1.13341508e-04  2.55515059e-01]  max|de|= -0.0907  lindep= 0.823\n",
      "davidson 6 16  |r|= 0.0172  e= [-6.30014227e-02  6.53504172e-06  2.55165703e-01]  max|de|= -0.00253  lindep= 0.835\n",
      "root 0 converged  |r|= 0.00381  e= -0.06306718636816595  max|de|= -6.58e-05\n",
      "root 1 converged  |r|= 0.00117  e= 2.0805896153164305e-07  max|de|= -6.33e-06\n",
      "root 2 converged  |r|= 0.00519  e= 0.2551199434497542  max|de|= -4.58e-05\n",
      "converged 7 19  |r|= 0.00519  e= [-6.30671864e-02  2.08058962e-07  2.55119943e-01]  max|de|= -6.58e-05\n",
      "uhf_internal: lowest eigs of H = [-6.30671864e-02  2.08058962e-07  2.55119943e-01]\n",
      "<class 'pyscf.scf.uhf.UHF'> wavefunction has an internal instability\n",
      "converged SCF energy = -38.1648039598741  <S^2> = 1.0575359  2S+1 = 2.2869507\n",
      "tol 0.0001  toloose 0.01\n",
      "max_cycle 50  max_space 20  max_memory 4000  incore True\n",
      "davidson 0 1  |r|= 1.49  e= [1.11935748]  max|de|= 1.12  lindep=    1\n",
      "Old state -> New state\n",
      "    0     ->     1 \n",
      "davidson 1 2  |r|= 1.49  e= [0.2885729 1.11976  ]  max|de|= 0.289  lindep= 0.879\n",
      "davidson 2 4  |r|= 0.984  e= [0.14230561 0.36750337 0.84472595]  max|de|= 0.845  lindep= 0.863\n",
      "Old state -> New state\n",
      "    2     ->     1 \n",
      "    1     ->     2 \n",
      "davidson 3 7  |r|= 0.406  e= [0.01099967 0.28654575 0.31234809]  max|de|= -0.558  lindep= 0.855\n",
      "davidson 4 10  |r|= 0.126  e= [0.00173062 0.26177471 0.30513271]  max|de|= -0.0248  lindep= 0.813\n",
      "Old state -> New state\n",
      "    1     ->     2 \n",
      "davidson 5 13  |r|= 0.392  e= [0.00047532 0.19594829 0.27854517]  max|de|= -0.0658  lindep= 0.907\n",
      "davidson 6 16  |r|= 0.228  e= [5.36771250e-05 1.22373246e-01 2.68635520e-01]  max|de|= -0.0736  lindep= 0.871\n",
      "root 0 converged  |r|= 0.00496  e= 3.1932575217433662e-06  max|de|= -5.05e-05\n",
      "davidson 7 19  |r|= 0.0757  e= [3.19325752e-06 1.14009208e-01 2.67630212e-01]  max|de|= -0.00836  lindep= 0.621\n",
      "davidson 8 3  |r|= 0.0757  e= [3.19325752e-06 1.14009208e-01 2.67630212e-01]  max|de|= 1.26e-15  lindep= 0.999\n",
      "davidson 9 5  |r|= 0.021  e= [5.93777338e-07 1.13371521e-01 2.67494842e-01]  max|de|= -0.000638  lindep= 0.662\n",
      "root 1 converged  |r|= 0.00378  e= 0.11330672946256287  max|de|= -6.48e-05\n",
      "root 2 converged  |r|= 0.00275  e= 0.2674705116356201  max|de|= -2.43e-05\n",
      "converged 10 7  |r|= 0.00378  e= [4.23098219e-07 1.13306729e-01 2.67470512e-01]  max|de|= -6.48e-05\n",
      "uhf_internal: lowest eigs of H = [4.23098219e-07 1.13306729e-01 2.67470512e-01]\n",
      "<class 'pyscf.scf.uhf.UHF'> wavefunction is stable in the internal stability analysis\n"
     ]
    }
   ],
   "source": [
    "mf = scf.UHF(mol).run()\n",
    "\n",
    "init_dm = mf.get_init_guess(key=\"hcore\")\n",
    "S = mf.get_ovlp()\n",
    "\n",
    "# Run SCF\n",
    "# mf.kernel()\n",
    "# Run stability analysis for the SCF wave function\n",
    "mo1, _, stable, _ = mf.stability(verbose=logging.INFO, return_status=True)\n",
    "while not stable:\n",
    "    dm1 = mf.make_rdm1(mo1, mf.mo_occ)\n",
    "    mf = mf.run(dm1)\n",
    "    mo1, _, stable, _ = mf.stability(verbose=logging.INFO, return_status=True)\n",
    "\n",
    "conv_dm = mf.make_rdm1()\n",
    "if mol.spin == 0:\n",
    "    conv_dm /= 2\n",
    "    init_dm /= 2"
   ]
  },
  {
   "cell_type": "code",
   "execution_count": 37,
   "metadata": {},
   "outputs": [
    {
     "name": "stdout",
     "output_type": "stream",
     "text": [
      "converged SCF energy = -38.1621933154903  <S^2> = 0.75322257  2S+1 = 2.00322\n",
      "converged SCF energy = -38.1648039598814  <S^2> = 1.0575298  2S+1 = 2.2869454\n"
     ]
    }
   ],
   "source": [
    "mf2 = scf.UHF(mol).run()\n",
    "mo2, _, stable, _ = mf2.stability(verbose=logging.NOTSET, return_status=True)\n",
    "while not stable:\n",
    "    mf = mf2.run(mf2.make_rdm1(mo2, mf2.mo_occ))\n",
    "    mo2, _, stable, _ = mf2.stability(verbose=logging.NOTSET, return_status=True)\n",
    "conv_dm2 = mf2.make_rdm1()"
   ]
  },
  {
   "cell_type": "code",
   "execution_count": 38,
   "metadata": {},
   "outputs": [
    {
     "data": {
      "text/plain": [
       "<matplotlib.colorbar.Colorbar at 0x7efcb01a4950>"
      ]
     },
     "execution_count": 38,
     "metadata": {},
     "output_type": "execute_result"
    },
    {
     "data": {
      "image/png": "[encoded data removed]",
      "text/plain": [
       "<Figure size 640x480 with 2 Axes>"
      ]
     },
     "metadata": {},
     "output_type": "display_data"
    }
   ],
   "source": [
    "fig, axes = plt.subplots(ncols=1)\n",
    "\n",
    "p = axes.pcolormesh(conv_dm2[0] - conv_dm[0], cmap=\"bwr\")\n",
    "plt.colorbar(p)"
   ]
  },
  {
   "cell_type": "code",
   "execution_count": 39,
   "metadata": {},
   "outputs": [
    {
     "name": "stdout",
     "output_type": "stream",
     "text": [
      "0.562576989164724\n",
      "0.5594357705252324\n"
     ]
    }
   ],
   "source": [
    "print(f_score(S, conv_dm[0], init_dm[0], conv_dm[1], init_dm[1]))\n",
    "print(f_score(S, conv_dm2[0], init_dm[0], conv_dm2[1], init_dm[1]))"
   ]
  },
  {
   "cell_type": "code",
   "execution_count": null,
   "metadata": {},
   "outputs": [],
   "source": []
  }
 ],
 "metadata": {
  "kernelspec": {
   "display_name": "scf_guess",
   "language": "python",
   "name": "python3"
  },
  "language_info": {
   "codemirror_mode": {
    "name": "ipython",
    "version": 3
   },
   "file_extension": ".py",
   "mimetype": "text/x-python",
   "name": "python",
   "nbconvert_exporter": "python",
   "pygments_lexer": "ipython3",
   "version": "3.12.7"
  }
 },
 "nbformat": 4,
 "nbformat_minor": 2
}
